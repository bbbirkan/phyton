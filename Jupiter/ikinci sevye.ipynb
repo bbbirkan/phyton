{
 "cells": [
  {
   "cell_type": "code",
   "execution_count": 2,
   "metadata": {},
   "outputs": [
    {
     "data": {
      "text/plain": [
       "[2, 4, 6, 8, 10, 12, 14]"
      ]
     },
     "execution_count": 2,
     "metadata": {},
     "output_type": "execute_result"
    }
   ],
   "source": [
    "def fonksiyon(i):\n",
    "    return i * 2\n",
    "list(map(fonksiyon,[1,2,3,4,5,6,7]))"
   ]
  },
  {
   "cell_type": "code",
   "execution_count": 4,
   "metadata": {},
   "outputs": [
    {
     "data": {
      "text/plain": [
       "[2, 4, 6, 8, 10, 12]"
      ]
     },
     "execution_count": 4,
     "metadata": {},
     "output_type": "execute_result"
    }
   ],
   "source": [
    "list(map(lambda i:i*2,(1,2,3,4,5,6)))"
   ]
  },
  {
   "cell_type": "code",
   "execution_count": 5,
   "metadata": {},
   "outputs": [
    {
     "data": {
      "text/plain": [
       "[5, 12, 21, 32]"
      ]
     },
     "execution_count": 5,
     "metadata": {},
     "output_type": "execute_result"
    }
   ],
   "source": [
    "liste1=[1,2,3,4]\n",
    "liste2=[5,6,7,8]\n",
    "liste=[9,10,11,12,13]\n",
    "list(map(lambda x,y: x*y,liste1,liste2))"
   ]
  },
  {
   "cell_type": "code",
   "execution_count": 7,
   "metadata": {},
   "outputs": [
    {
     "data": {
      "text/plain": [
       "[45, 120, 231, 384]"
      ]
     },
     "execution_count": 7,
     "metadata": {},
     "output_type": "execute_result"
    }
   ],
   "source": [
    "liste1=[1,2,3,4]\n",
    "liste2=[5,6,7,8]\n",
    "liste3=[9,10,11,12,13]\n",
    "list(map(lambda x,y,z: x*y*z,liste1,liste2,liste3))"
   ]
  },
  {
   "cell_type": "code",
   "execution_count": 8,
   "metadata": {},
   "outputs": [],
   "source": [
    "from functools import reduce"
   ]
  },
  {
   "cell_type": "code",
   "execution_count": 9,
   "metadata": {},
   "outputs": [
    {
     "data": {
      "text/plain": [
       "42"
      ]
     },
     "execution_count": 9,
     "metadata": {},
     "output_type": "execute_result"
    }
   ],
   "source": [
    "def topla(x,y):\n",
    "    return x+y\n",
    "reduce(topla,[5,6,8,23])"
   ]
  },
  {
   "cell_type": "code",
   "execution_count": 11,
   "metadata": {},
   "outputs": [
    {
     "data": {
      "text/plain": [
       "120"
      ]
     },
     "execution_count": 11,
     "metadata": {},
     "output_type": "execute_result"
    }
   ],
   "source": [
    "reduce(lambda x,y: x*y,[1,2,3,4,5])"
   ]
  },
  {
   "cell_type": "code",
   "execution_count": 15,
   "metadata": {},
   "outputs": [
    {
     "data": {
      "text/plain": [
       "90"
      ]
     },
     "execution_count": 15,
     "metadata": {},
     "output_type": "execute_result"
    }
   ],
   "source": [
    "def maxi(x,y):\n",
    "    if (x>y):\n",
    "        return x\n",
    "    else:\n",
    "        return y\n",
    "    \n",
    "reduce(maxi,[3,-8,90,-6,23])\n"
   ]
  },
  {
   "cell_type": "code",
   "execution_count": 28,
   "metadata": {},
   "outputs": [
    {
     "data": {
      "text/plain": [
       "[12, 30, 30, 9]"
      ]
     },
     "execution_count": 28,
     "metadata": {},
     "output_type": "execute_result"
    }
   ],
   "source": [
    "dik=[(3,4),(10,3),(5,6),(1,9)]\n",
    "list(map(lambda x:x[0]*x[1],dik))"
   ]
  },
  {
   "cell_type": "code",
   "execution_count": 29,
   "metadata": {},
   "outputs": [
    {
     "name": "stdout",
     "output_type": "stream",
     "text": [
      "[12, 30, 30, 9]\n"
     ]
    }
   ],
   "source": [
    "def alan(x):\n",
    "    return x[0] * x[1]\n",
    "\n",
    "\n",
    "liste = [(3,4),(10,3),(5,6),(1,9)]\n",
    "\n",
    "print(list(map(alan,liste)))\n"
   ]
  },
  {
   "cell_type": "code",
   "execution_count": 30,
   "metadata": {},
   "outputs": [
    {
     "data": {
      "text/plain": [
       "[2, 4, 6, 8, 10]"
      ]
     },
     "execution_count": 30,
     "metadata": {},
     "output_type": "execute_result"
    }
   ],
   "source": [
    "a=list(filter(lambda x : x % 2 == 0,   [1,2,3,4,5,6,7,8,9,10])) \n"
   ]
  },
  {
   "cell_type": "code",
   "execution_count": 38,
   "metadata": {},
   "outputs": [
    {
     "name": "stdout",
     "output_type": "stream",
     "text": [
      "[(3, 4, 5), (6, 8, 10)]\n"
     ]
    }
   ],
   "source": [
    "liste= [(3,4,5),(6,8,10),(3,10,7)]\n",
    "\n",
    "def pisagor(x):\n",
    "    for i in x:\n",
    "        a=x[0]\n",
    "        b=x[1] \n",
    "        c=x[2]\n",
    "        if ((a < b + c and b < a + c and c < a + b) and (a > abs(b - c) and b > abs(a - c) and c > abs(a - b))):\n",
    "             return True\n",
    "        else:\n",
    "             return False\n",
    "        \n",
    "    \n",
    "    \n",
    "print(list(filter(pisagor,liste)))"
   ]
  },
  {
   "cell_type": "code",
   "execution_count": null,
   "metadata": {},
   "outputs": [],
   "source": [
    "\n",
    "if ((a < b + c and b < a + c and c < a + b) and (a > abs(b - c) and b > abs(a - c) and c > abs(a - b))):"
   ]
  }
 ],
 "metadata": {
  "kernelspec": {
   "display_name": "Python 3",
   "language": "python",
   "name": "python3"
  },
  "language_info": {
   "codemirror_mode": {
    "name": "ipython",
    "version": 3
   },
   "file_extension": ".py",
   "mimetype": "text/x-python",
   "name": "python",
   "nbconvert_exporter": "python",
   "pygments_lexer": "ipython3",
   "version": "3.6.4"
  }
 },
 "nbformat": 4,
 "nbformat_minor": 2
}
