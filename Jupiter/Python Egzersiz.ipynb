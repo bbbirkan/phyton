{
 "cells": [
  {
   "cell_type": "markdown",
   "metadata": {},
   "source": [
    "# Python Egzersiz \n",
    "\n",
    "Sorular kalın harflerle yazılmıştır. Altındaki hücrelere soruların cevabını yazıp alttaki çıktıyı elde edin."
   ]
  },
  {
   "cell_type": "markdown",
   "metadata": {},
   "source": [
    "** 7 üstü 4 nedir?**"
   ]
  },
  {
   "cell_type": "code",
   "execution_count": 1,
   "metadata": {},
   "outputs": [
    {
     "data": {
      "text/plain": [
       "2401"
      ]
     },
     "execution_count": 1,
     "metadata": {},
     "output_type": "execute_result"
    }
   ],
   "source": []
  },
  {
   "cell_type": "markdown",
   "metadata": {},
   "source": [
    "** Aşağıdaki stringi listeye çevirin:**\n",
    "\n",
    "    s = \"Merhaba ben Hakan!\"\n"
   ]
  },
  {
   "cell_type": "code",
   "execution_count": 2,
   "metadata": {},
   "outputs": [
    {
     "data": {
      "text/plain": [
       "['Merhaba', 'ben', 'Hakan!']"
      ]
     },
     "execution_count": 2,
     "metadata": {},
     "output_type": "execute_result"
    }
   ],
   "source": []
  },
  {
   "cell_type": "markdown",
   "metadata": {},
   "source": [
    "** Aşağıdaki değişkenleri kullanın:**\n",
    "\n",
    "    baskent = \"Ankara\"\n",
    "    nufus = 5.4\n",
    "\n",
    "** .format() kullanarak yukarıdaki değişkenler ile aşağıdaki stringi elde edin.: **\n",
    "\n",
    "    Türkiye'nin başkenti Ankara ve nüfusu 5.4 milyondur.\n",
    "<br>Not: Önce değişkenlerin tanımlandığı hücreyi çalıştırın."
   ]
  },
  {
   "cell_type": "code",
   "execution_count": 3,
   "metadata": {},
   "outputs": [],
   "source": [
    "baskent = \"Ankara\"\n",
    "nufus = 5.4"
   ]
  },
  {
   "cell_type": "code",
   "execution_count": 4,
   "metadata": {},
   "outputs": [
    {
     "name": "stdout",
     "output_type": "stream",
     "text": [
      "Türkiye'nin başkenti Ankara ve nüfusu 5.4 milyondur\n"
     ]
    }
   ],
   "source": []
  },
  {
   "cell_type": "markdown",
   "metadata": {},
   "source": [
    "** Aşağıdaki liste içerisinden 'merhaba' kelimesini alın. ** <br>\n",
    "Not: Önce listenin tanımlandığı hücreyi çalıştırmayı unutmayın. Egzersiz boyunca tanımlama yapılan hücreleri çalıştırdıktan sonra çözüme geçin."
   ]
  },
  {
   "cell_type": "code",
   "execution_count": 5,
   "metadata": {},
   "outputs": [],
   "source": [
    "lst = [1,2,[3,4],[5,[100,200,['merhaba']],23,11],1,7]"
   ]
  },
  {
   "cell_type": "code",
   "execution_count": 6,
   "metadata": {},
   "outputs": [
    {
     "data": {
      "text/plain": [
       "'merhaba'"
      ]
     },
     "execution_count": 6,
     "metadata": {},
     "output_type": "execute_result"
    }
   ],
   "source": []
  },
  {
   "cell_type": "markdown",
   "metadata": {},
   "source": [
    "** Aşağıdaki sözlük içerisinden 'merhaba' kelimesini alın. **"
   ]
  },
  {
   "cell_type": "code",
   "execution_count": 7,
   "metadata": {},
   "outputs": [],
   "source": [
    "d = {'k1':[1,2,3,{'key':['GS','FB','BJK',{'hedef':[1,2,3,'merhaba']}]}]}"
   ]
  },
  {
   "cell_type": "code",
   "execution_count": 8,
   "metadata": {},
   "outputs": [
    {
     "data": {
      "text/plain": [
       "'merhaba'"
      ]
     },
     "execution_count": 8,
     "metadata": {},
     "output_type": "execute_result"
    }
   ],
   "source": []
  },
  {
   "cell_type": "markdown",
   "metadata": {},
   "source": [
    "** Tuple ile liste arasındaki fark nedir? Yorum satırı olarak yazın. **"
   ]
  },
  {
   "cell_type": "code",
   "execution_count": 9,
   "metadata": {},
   "outputs": [],
   "source": []
  },
  {
   "cell_type": "markdown",
   "metadata": {},
   "source": [
    "** E-maillerden domain adresini alan bir fonksiyon yazın: **\n",
    "\n",
    "    deneme@gmail.com\n",
    "    \n",
    "**Örnek olarak fonksiyona 'deneme@gmail.com' verdiğimizde bize 'gmail.com' döndürmeli.**"
   ]
  },
  {
   "cell_type": "code",
   "execution_count": 10,
   "metadata": {},
   "outputs": [],
   "source": []
  },
  {
   "cell_type": "code",
   "execution_count": 11,
   "metadata": {},
   "outputs": [
    {
     "data": {
      "text/plain": [
       "'gmail.com'"
      ]
     },
     "execution_count": 11,
     "metadata": {},
     "output_type": "execute_result"
    }
   ],
   "source": [
    "domain_al('deneme@gmail.com')"
   ]
  },
  {
   "cell_type": "markdown",
   "metadata": {},
   "source": [
    "** Eğer bir cümlede 'kedi' kelimesi geçiyorsa True döndüren bir fonksiyon yazın. Kedi'ye eklenen ekleri görmezden gelebilirsiniz. Ek eklenince True döndürmese de olur ancak büyük küçük harfe duyarlı olmasın. **"
   ]
  },
  {
   "cell_type": "code",
   "execution_count": 12,
   "metadata": {},
   "outputs": [],
   "source": []
  },
  {
   "cell_type": "code",
   "execution_count": 13,
   "metadata": {},
   "outputs": [
    {
     "data": {
      "text/plain": [
       "True"
      ]
     },
     "execution_count": 13,
     "metadata": {},
     "output_type": "execute_result"
    }
   ],
   "source": [
    "kedi_bul('Burada bir kEdi var mı?')"
   ]
  },
  {
   "cell_type": "markdown",
   "metadata": {},
   "source": [
    "** Bir stringde kaç defa 'kedi' kelimesinin geçtiğini döndüren bir fonksiyon yazın. Yine ekleri görmezden gelebilirsiniz. **"
   ]
  },
  {
   "cell_type": "code",
   "execution_count": 14,
   "metadata": {},
   "outputs": [],
   "source": []
  },
  {
   "cell_type": "code",
   "execution_count": 15,
   "metadata": {},
   "outputs": [
    {
     "data": {
      "text/plain": [
       "3"
      ]
     },
     "execution_count": 15,
     "metadata": {},
     "output_type": "execute_result"
    }
   ],
   "source": [
    "kedi_say(\"Türkçeye muhtemelen Arapçadan geçen kedi adı neredeyse evrenseldir ve pek çok dilde aynı sözcüğün varyasyonları şeklindedir: İngilizce cat, Bulgarca kotka, Polonyaca kot, Arapça qitt (erkek kedi) vs. Kedi sözcüğü muhtemelen Afrasya (Hami-Sami) kökenlidir. Buradan Latinceye ve diğer Avrupa dillerine yayılmıştır. Latincede MS 75 yılında catta şeklinde, Bizans Yunancasında MS 350 yılında katta şeklinde görülür. MS 700'lü yıllarda Avrupa'da, yine Latince kökenli ve kedi anlamına gelen feles sözcüğünün yerini alarak, yaygın şekilde kullanılmaya başlanmıştır.!\")"
   ]
  },
  {
   "cell_type": "markdown",
   "metadata": {},
   "source": [
    "** Lambda ve filter() kullanarak bir listede 'z' harfi ile başlamayan kelimeleri filtreleyin.**\n",
    "\n",
    "    seq = ['zebra','brokoli','zil','köpek','sandık']\n",
    "\n",
    "** Örnek olarak yukardaki liste filtrelendiğinde çıktı olarak aşağıdaki liste verilmeli. **\n",
    "\n",
    "    ['zebra','zil']"
   ]
  },
  {
   "cell_type": "code",
   "execution_count": 16,
   "metadata": {},
   "outputs": [],
   "source": [
    "seq = ['zebra','brokoli','zil','köpek','sandık']"
   ]
  },
  {
   "cell_type": "code",
   "execution_count": 17,
   "metadata": {},
   "outputs": [
    {
     "data": {
      "text/plain": [
       "['zebra', 'zil']"
      ]
     },
     "execution_count": 17,
     "metadata": {},
     "output_type": "execute_result"
    }
   ],
   "source": []
  },
  {
   "cell_type": "markdown",
   "metadata": {},
   "source": [
    "# Tebrikler!"
   ]
  }
 ],
 "metadata": {
  "kernelspec": {
   "display_name": "Python 3",
   "language": "python",
   "name": "python3"
  },
  "language_info": {
   "codemirror_mode": {
    "name": "ipython",
    "version": 3
   },
   "file_extension": ".py",
   "mimetype": "text/x-python",
   "name": "python",
   "nbconvert_exporter": "python",
   "pygments_lexer": "ipython3",
   "version": "3.6.4"
  }
 },
 "nbformat": 4,
 "nbformat_minor": 1
}
